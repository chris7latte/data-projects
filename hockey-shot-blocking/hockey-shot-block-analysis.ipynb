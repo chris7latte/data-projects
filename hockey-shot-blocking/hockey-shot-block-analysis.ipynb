{
 "cells": [
  {
   "cell_type": "code",
   "execution_count": 9,
   "metadata": {
    "collapsed": false
   },
   "outputs": [],
   "source": [
    "import plotly\n",
    "import plotly.plotly as py\n",
    "import plotly.graph_objs as go\n",
    "from plotly import tools\n",
    "import numpy as np\n",
    "from scipy import stats\n",
    "from numpy import arange,array,ones\n",
    "import matplotlib.pyplot as plt\n",
    "import pandas as pd\n",
    "\n",
    "plotly.offline.init_notebook_mode()"
   ]
  },
  {
   "cell_type": "code",
   "execution_count": 10,
   "metadata": {
    "collapsed": false
   },
   "outputs": [],
   "source": [
    "df = pd.read_csv('data-v2.csv')"
   ]
  },
  {
   "cell_type": "code",
   "execution_count": 11,
   "metadata": {
    "collapsed": false
   },
   "outputs": [
    {
     "data": {
      "text/html": [
       "<div>\n",
       "<table border=\"1\" class=\"dataframe\">\n",
       "  <thead>\n",
       "    <tr style=\"text-align: right;\">\n",
       "      <th></th>\n",
       "      <th>season</th>\n",
       "      <th>team</th>\n",
       "      <th>numGamesPlayoffs</th>\n",
       "      <th>numBlocksPlayoffs</th>\n",
       "      <th>numGamesRegular</th>\n",
       "      <th>numBlocksRegular</th>\n",
       "    </tr>\n",
       "  </thead>\n",
       "  <tbody>\n",
       "    <tr>\n",
       "      <th>0</th>\n",
       "      <td>20062007</td>\n",
       "      <td>1</td>\n",
       "      <td>11</td>\n",
       "      <td>172</td>\n",
       "      <td>82</td>\n",
       "      <td>1127</td>\n",
       "    </tr>\n",
       "    <tr>\n",
       "      <th>1</th>\n",
       "      <td>20062007</td>\n",
       "      <td>2</td>\n",
       "      <td>5</td>\n",
       "      <td>91</td>\n",
       "      <td>82</td>\n",
       "      <td>1307</td>\n",
       "    </tr>\n",
       "    <tr>\n",
       "      <th>2</th>\n",
       "      <td>20062007</td>\n",
       "      <td>3</td>\n",
       "      <td>10</td>\n",
       "      <td>159</td>\n",
       "      <td>82</td>\n",
       "      <td>1386</td>\n",
       "    </tr>\n",
       "    <tr>\n",
       "      <th>3</th>\n",
       "      <td>20062007</td>\n",
       "      <td>5</td>\n",
       "      <td>5</td>\n",
       "      <td>88</td>\n",
       "      <td>82</td>\n",
       "      <td>1238</td>\n",
       "    </tr>\n",
       "    <tr>\n",
       "      <th>4</th>\n",
       "      <td>20062007</td>\n",
       "      <td>7</td>\n",
       "      <td>16</td>\n",
       "      <td>290</td>\n",
       "      <td>82</td>\n",
       "      <td>1248</td>\n",
       "    </tr>\n",
       "  </tbody>\n",
       "</table>\n",
       "</div>"
      ],
      "text/plain": [
       "     season  team  numGamesPlayoffs  numBlocksPlayoffs  numGamesRegular  \\\n",
       "0  20062007     1                11                172               82   \n",
       "1  20062007     2                 5                 91               82   \n",
       "2  20062007     3                10                159               82   \n",
       "3  20062007     5                 5                 88               82   \n",
       "4  20062007     7                16                290               82   \n",
       "\n",
       "   numBlocksRegular  \n",
       "0              1127  \n",
       "1              1307  \n",
       "2              1386  \n",
       "3              1238  \n",
       "4              1248  "
      ]
     },
     "execution_count": 11,
     "metadata": {},
     "output_type": "execute_result"
    }
   ],
   "source": [
    "df.head()"
   ]
  },
  {
   "cell_type": "code",
   "execution_count": 12,
   "metadata": {
    "collapsed": false
   },
   "outputs": [],
   "source": [
    "df['blkPerGmRegular'] = df.numBlocksRegular / df.numGamesRegular\n",
    "df['blkPerGmPlayoff'] = df.numBlocksPlayoffs / df.numGamesPlayoffs\n",
    "df['blkDiff'] = df.blkPerGmPlayoff - df.blkPerGmRegular"
   ]
  },
  {
   "cell_type": "code",
   "execution_count": 13,
   "metadata": {
    "collapsed": false
   },
   "outputs": [
    {
     "data": {
      "text/html": [
       "<div>\n",
       "<table border=\"1\" class=\"dataframe\">\n",
       "  <thead>\n",
       "    <tr style=\"text-align: right;\">\n",
       "      <th></th>\n",
       "      <th>season</th>\n",
       "      <th>team</th>\n",
       "      <th>numGamesPlayoffs</th>\n",
       "      <th>numBlocksPlayoffs</th>\n",
       "      <th>numGamesRegular</th>\n",
       "      <th>numBlocksRegular</th>\n",
       "      <th>blkPerGmRegular</th>\n",
       "      <th>blkPerGmPlayoff</th>\n",
       "      <th>blkDiff</th>\n",
       "    </tr>\n",
       "  </thead>\n",
       "  <tbody>\n",
       "    <tr>\n",
       "      <th>0</th>\n",
       "      <td>20062007</td>\n",
       "      <td>1</td>\n",
       "      <td>11</td>\n",
       "      <td>172</td>\n",
       "      <td>82</td>\n",
       "      <td>1127</td>\n",
       "      <td>13.743902</td>\n",
       "      <td>15.636364</td>\n",
       "      <td>1.892461</td>\n",
       "    </tr>\n",
       "    <tr>\n",
       "      <th>1</th>\n",
       "      <td>20062007</td>\n",
       "      <td>2</td>\n",
       "      <td>5</td>\n",
       "      <td>91</td>\n",
       "      <td>82</td>\n",
       "      <td>1307</td>\n",
       "      <td>15.939024</td>\n",
       "      <td>18.200000</td>\n",
       "      <td>2.260976</td>\n",
       "    </tr>\n",
       "    <tr>\n",
       "      <th>2</th>\n",
       "      <td>20062007</td>\n",
       "      <td>3</td>\n",
       "      <td>10</td>\n",
       "      <td>159</td>\n",
       "      <td>82</td>\n",
       "      <td>1386</td>\n",
       "      <td>16.902439</td>\n",
       "      <td>15.900000</td>\n",
       "      <td>-1.002439</td>\n",
       "    </tr>\n",
       "    <tr>\n",
       "      <th>3</th>\n",
       "      <td>20062007</td>\n",
       "      <td>5</td>\n",
       "      <td>5</td>\n",
       "      <td>88</td>\n",
       "      <td>82</td>\n",
       "      <td>1238</td>\n",
       "      <td>15.097561</td>\n",
       "      <td>17.600000</td>\n",
       "      <td>2.502439</td>\n",
       "    </tr>\n",
       "    <tr>\n",
       "      <th>4</th>\n",
       "      <td>20062007</td>\n",
       "      <td>7</td>\n",
       "      <td>16</td>\n",
       "      <td>290</td>\n",
       "      <td>82</td>\n",
       "      <td>1248</td>\n",
       "      <td>15.219512</td>\n",
       "      <td>18.125000</td>\n",
       "      <td>2.905488</td>\n",
       "    </tr>\n",
       "  </tbody>\n",
       "</table>\n",
       "</div>"
      ],
      "text/plain": [
       "     season  team  numGamesPlayoffs  numBlocksPlayoffs  numGamesRegular  \\\n",
       "0  20062007     1                11                172               82   \n",
       "1  20062007     2                 5                 91               82   \n",
       "2  20062007     3                10                159               82   \n",
       "3  20062007     5                 5                 88               82   \n",
       "4  20062007     7                16                290               82   \n",
       "\n",
       "   numBlocksRegular  blkPerGmRegular  blkPerGmPlayoff   blkDiff  \n",
       "0              1127        13.743902        15.636364  1.892461  \n",
       "1              1307        15.939024        18.200000  2.260976  \n",
       "2              1386        16.902439        15.900000 -1.002439  \n",
       "3              1238        15.097561        17.600000  2.502439  \n",
       "4              1248        15.219512        18.125000  2.905488  "
      ]
     },
     "execution_count": 13,
     "metadata": {},
     "output_type": "execute_result"
    }
   ],
   "source": [
    "df.head()"
   ]
  },
  {
   "cell_type": "code",
   "execution_count": 14,
   "metadata": {
    "collapsed": false
   },
   "outputs": [
    {
     "data": {
      "text/plain": [
       "'file:///Users/Rossie/Development/github/data-projects/hockey-shot-blocking/temp-plot.html'"
      ]
     },
     "execution_count": 14,
     "metadata": {},
     "output_type": "execute_result"
    }
   ],
   "source": [
    "trace1 = go.Histogram(\n",
    "    x = df.blkPerGmRegular,\n",
    "    opacity = 0.66,\n",
    "    name = 'Regluar Season',\n",
    "    marker = dict(\n",
    "        line = dict(\n",
    "            color = 'grey',\n",
    "            width = 1.0\n",
    "        )\n",
    "    ),\n",
    "    autobinx=False,\n",
    "    xbins=dict(\n",
    "        start=8,\n",
    "        end=24,\n",
    "        size=2\n",
    "    )\n",
    ")\n",
    "trace2 = go.Histogram(\n",
    "    x = df.blkPerGmPlayoff,\n",
    "    opacity = 0.66,\n",
    "    name = 'Playoffs',\n",
    "    marker = dict(\n",
    "        line = dict(\n",
    "            color = 'grey',\n",
    "            width = 1.0\n",
    "        )\n",
    "    ),\n",
    "    autobinx=False,\n",
    "    xbins=dict(\n",
    "        start=8,\n",
    "        end=24,\n",
    "        size=2\n",
    "    )\n",
    ")\n",
    "data = [trace1, trace2]\n",
    "layout = dict(\n",
    "    title = '2006-2015 NHL Shot Blocks Per Game For Playoff Teams',\n",
    "    yaxis = dict(title = '%'),\n",
    "    xaxis = dict(title = 'Shot Blocks per Game (Cumulative Shot Blocks / Games Played)'),\n",
    "    bargap = 0.25,\n",
    "    barmode='overlay'\n",
    ")\n",
    "fig=dict(data=data, layout=layout)\n",
    "plotly.offline.plot(fig)\n",
    "# plotly.offline.iplot(fig)"
   ]
  },
  {
   "cell_type": "code",
   "execution_count": 15,
   "metadata": {
    "collapsed": false
   },
   "outputs": [
    {
     "name": "stdout",
     "output_type": "stream",
     "text": [
      "playoff: NormaltestResult(statistic=1.3459614507752162, pvalue=0.51018558597546892)\n",
      "regluar season: NormaltestResult(statistic=0.72393887157427661, pvalue=0.6963036494895003)\n"
     ]
    }
   ],
   "source": [
    "# Are the two popluations normal?\n",
    "\n",
    "resPlayoff = stats.normaltest(df.blkPerGmPlayoff)\n",
    "print 'playoff: ' + str(resPlayoff)\n",
    "resRegular = stats.normaltest(df.blkPerGmRegular)\n",
    "print 'regluar season: ' + str(resRegular)"
   ]
  },
  {
   "cell_type": "code",
   "execution_count": 16,
   "metadata": {
    "collapsed": false
   },
   "outputs": [
    {
     "name": "stdout",
     "output_type": "stream",
     "text": [
      "Ttest_indResult(statistic=6.193753446868004, pvalue=2.2065936403165815e-09)\n"
     ]
    }
   ],
   "source": [
    "results = stats.ttest_ind(df.blkPerGmPlayoff, df.blkPerGmRegular, equal_var = False)\n",
    "print str(results)"
   ]
  },
  {
   "cell_type": "code",
   "execution_count": 17,
   "metadata": {
    "collapsed": false
   },
   "outputs": [
    {
     "data": {
      "text/plain": [
       "'file:///Users/Rossie/Development/github/data-projects/hockey-shot-blocking/temp-plot.html'"
      ]
     },
     "execution_count": 17,
     "metadata": {},
     "output_type": "execute_result"
    }
   ],
   "source": [
    "trace1 = go.Histogram(\n",
    "    x = df.blkDiff,\n",
    "    marker = dict(\n",
    "        line = dict(\n",
    "            color = 'grey',\n",
    "            width = 1.0\n",
    "        )\n",
    "    )\n",
    ")\n",
    "data = [trace1]\n",
    "layout = dict(\n",
    "    title = '2006-2015 NHL Shot Blocks Per Game For Playoff Teams Difference (Playoff - Reguar Season)',\n",
    "    yaxis = dict(title = '%'),\n",
    "    xaxis = dict(\n",
    "        title = 'Shot Blocks per Game Difference',\n",
    "        zeroline = True\n",
    "        \n",
    "    ),\n",
    "    bargap = 0.25\n",
    ")\n",
    "fig=dict(data=data, layout=layout)\n",
    "plotly.offline.plot(fig)"
   ]
  },
  {
   "cell_type": "code",
   "execution_count": 65,
   "metadata": {
    "collapsed": false
   },
   "outputs": [
    {
     "name": "stdout",
     "output_type": "stream",
     "text": [
      "diff normality test: NormaltestResult(statistic=5.8671079764564249, pvalue=0.053207602525582813)\n",
      "diff t-test: Ttest_1sampResult(statistic=9.7830178032344772, pvalue=5.7654455833651475e-18)\n"
     ]
    }
   ],
   "source": [
    "# Is the difference population normal?\n",
    "resDiff = stats.normaltest(df.blkDiff)\n",
    "print 'diff normality test: ' + str(resDiff)\n",
    "\n",
    "resDiffT = stats.ttest_1samp(df.blkDiff, 0.0)\n",
    "print 'diff t-test: ' + str(resDiffT)"
   ]
  },
  {
   "cell_type": "code",
   "execution_count": null,
   "metadata": {
    "collapsed": true
   },
   "outputs": [],
   "source": []
  },
  {
   "cell_type": "code",
   "execution_count": null,
   "metadata": {
    "collapsed": true
   },
   "outputs": [],
   "source": []
  },
  {
   "cell_type": "code",
   "execution_count": null,
   "metadata": {
    "collapsed": true
   },
   "outputs": [],
   "source": []
  },
  {
   "cell_type": "code",
   "execution_count": 19,
   "metadata": {
    "collapsed": false
   },
   "outputs": [
    {
     "data": {
      "text/html": [
       "<div>\n",
       "<table border=\"1\" class=\"dataframe\">\n",
       "  <thead>\n",
       "    <tr style=\"text-align: right;\">\n",
       "      <th></th>\n",
       "      <th>season</th>\n",
       "      <th>team</th>\n",
       "      <th>numGamesPlayoffs</th>\n",
       "      <th>numBlocksPlayoffs</th>\n",
       "      <th>numGamesRegular</th>\n",
       "      <th>numBlocksRegular</th>\n",
       "      <th>blkPerGmRegular</th>\n",
       "      <th>blkPerGmPlayoff</th>\n",
       "      <th>blkDiff</th>\n",
       "    </tr>\n",
       "  </thead>\n",
       "  <tbody>\n",
       "    <tr>\n",
       "      <th>137</th>\n",
       "      <td>20142015</td>\n",
       "      <td>18</td>\n",
       "      <td>6</td>\n",
       "      <td>144</td>\n",
       "      <td>82</td>\n",
       "      <td>1180</td>\n",
       "      <td>14.390244</td>\n",
       "      <td>24.000000</td>\n",
       "      <td>9.609756</td>\n",
       "    </tr>\n",
       "    <tr>\n",
       "      <th>158</th>\n",
       "      <td>20152016</td>\n",
       "      <td>30</td>\n",
       "      <td>6</td>\n",
       "      <td>137</td>\n",
       "      <td>82</td>\n",
       "      <td>1209</td>\n",
       "      <td>14.743902</td>\n",
       "      <td>22.833333</td>\n",
       "      <td>8.089431</td>\n",
       "    </tr>\n",
       "    <tr>\n",
       "      <th>54</th>\n",
       "      <td>20092010</td>\n",
       "      <td>9</td>\n",
       "      <td>6</td>\n",
       "      <td>129</td>\n",
       "      <td>82</td>\n",
       "      <td>1193</td>\n",
       "      <td>14.548780</td>\n",
       "      <td>21.500000</td>\n",
       "      <td>6.951220</td>\n",
       "    </tr>\n",
       "    <tr>\n",
       "      <th>77</th>\n",
       "      <td>20102011</td>\n",
       "      <td>26</td>\n",
       "      <td>6</td>\n",
       "      <td>117</td>\n",
       "      <td>82</td>\n",
       "      <td>1032</td>\n",
       "      <td>12.585366</td>\n",
       "      <td>19.500000</td>\n",
       "      <td>6.914634</td>\n",
       "    </tr>\n",
       "    <tr>\n",
       "      <th>157</th>\n",
       "      <td>20152016</td>\n",
       "      <td>28</td>\n",
       "      <td>10</td>\n",
       "      <td>226</td>\n",
       "      <td>82</td>\n",
       "      <td>1292</td>\n",
       "      <td>15.756098</td>\n",
       "      <td>22.600000</td>\n",
       "      <td>6.843902</td>\n",
       "    </tr>\n",
       "  </tbody>\n",
       "</table>\n",
       "</div>"
      ],
      "text/plain": [
       "       season  team  numGamesPlayoffs  numBlocksPlayoffs  numGamesRegular  \\\n",
       "137  20142015    18                 6                144               82   \n",
       "158  20152016    30                 6                137               82   \n",
       "54   20092010     9                 6                129               82   \n",
       "77   20102011    26                 6                117               82   \n",
       "157  20152016    28                10                226               82   \n",
       "\n",
       "     numBlocksRegular  blkPerGmRegular  blkPerGmPlayoff   blkDiff  \n",
       "137              1180        14.390244        24.000000  9.609756  \n",
       "158              1209        14.743902        22.833333  8.089431  \n",
       "54               1193        14.548780        21.500000  6.951220  \n",
       "77               1032        12.585366        19.500000  6.914634  \n",
       "157              1292        15.756098        22.600000  6.843902  "
      ]
     },
     "execution_count": 19,
     "metadata": {},
     "output_type": "execute_result"
    }
   ],
   "source": [
    "df_ordered = df.sort_values(by='blkDiff', ascending=False)\n",
    "df_ordered.head()"
   ]
  },
  {
   "cell_type": "code",
   "execution_count": 58,
   "metadata": {
    "collapsed": false
   },
   "outputs": [
    {
     "data": {
      "text/html": [
       "<div id=\"9a884885-3feb-415a-a806-f645d86888a8\" style=\"height: 525; width: 100%;\" class=\"plotly-graph-div\"></div><script type=\"text/javascript\">require([\"plotly\"], function(Plotly) { window.PLOTLYENV=window.PLOTLYENV || {};window.PLOTLYENV.BASE_URL=\"https://plot.ly\";Plotly.newPlot(\"9a884885-3feb-415a-a806-f645d86888a8\", [{\"y\": [13.74390243902439, 15.939024390243903, 16.902439024390244, 15.097560975609756, 15.21951219512195, 15.146341463414634, 15.768292682926829, 12.268292682926829, 10.195121951219512, 12.317073170731707, 12.548780487804878, 10.609756097560975, 8.878048780487806, 12.670731707317072, 12.853658536585366, 12.268292682926829], \"type\": \"box\", \"jitter\": 0.3, \"name\": \"2006 - 2007\", \"boxpoints\": \"all\"}, {\"y\": [10.121951219512194, 12.353658536585366, 14.304878048780488, 13.768292682926829, 10.707317073170731, 16.378048780487806, 12.329268292682928, 12.25609756097561, 8.646341463414634, 10.646341463414634, 9.317073170731707, 13.182926829268293, 8.78048780487805, 9.670731707317072, 12.097560975609756, 11.170731707317072], \"type\": \"box\", \"jitter\": 0.3, \"name\": \"2007 - 2008\", \"boxpoints\": \"all\"}, {\"y\": [11.829268292682928, 11.670731707317072, 15.158536585365853, 15.609756097560975, 13.073170731707316, 16.048780487804876, 14.560975609756097, 13.548780487804878, 10.317073170731707, 9.036585365853659, 13.75609756097561, 9.609756097560975, 12.109756097560975, 9.768292682926829, 11.804878048780488, 12.463414634146341], \"type\": \"box\", \"jitter\": 0.3, \"name\": \"2008 - 2009\", \"boxpoints\": \"all\"}, {\"y\": [11.74390243902439, 15.292682926829269, 14.414634146341463, 11.853658536585366, 12.146341463414634, 16.390243902439025, 14.548780487804878, 14.060975609756097, 13.012195121951219, 11.146341463414634, 12.268292682926829, 14.951219512195122, 12.085365853658537, 12.073170731707316, 11.829268292682928, 12.951219512195122], \"type\": \"box\", \"jitter\": 0.3, \"name\": \"2009 - 2010\", \"boxpoints\": \"all\"}, {\"y\": [15.865853658536585, 16.0609756097561, 13.195121951219512, 14.292682926829269, 14.24390243902439, 15.512195121951219, 15.231707317073171, 15.329268292682928, 13.951219512195122, 11.182926829268293, 12.28048780487805, 13.060975609756097, 15.21951219512195, 12.585365853658537, 12.878048780487806, 13.914634146341463], \"type\": \"box\", \"jitter\": 0.3, \"name\": \"2010 - 2011\", \"boxpoints\": \"all\"}, {\"y\": [11.317073170731707, 16.317073170731707, 14.731707317073171, 12.987804878048781, 12.853658536585366, 13.146341463414634, 12.707317073170731, 15.878048780487806, 12.548780487804878, 11.853658536585366, 14.792682926829269, 13.658536585365853, 12.426829268292684, 11.817073170731707, 13.060975609756097, 16.182926829268293], \"type\": \"box\", \"jitter\": 0.3, \"name\": \"2011 - 2012\", \"boxpoints\": \"all\"}, {\"y\": [15.958333333333334, 16.104166666666668, 15.3125, 13.541666666666666, 14.625, 12.833333333333334, 17.208333333333332, 15.9375, 13.583333333333334, 11.666666666666666, 14.104166666666666, 11.791666666666666, 16.166666666666668, 10.645833333333334, 16.666666666666668, 12.791666666666666], \"type\": \"box\", \"jitter\": 0.3, \"name\": \"2012 - 2013\", \"boxpoints\": \"all\"}, {\"y\": [13.646341463414634, 14.634146341463415, 14.475609756097562, 12.817073170731707, 18.182926829268293, 13.670731707317072, 12.475609756097562, 12.365853658536585, 13.670731707317072, 14.658536585365853, 15.146341463414634, 14.75609756097561, 11.304878048780488, 15.682926829268293, 13.182926829268293, 13.731707317073171], \"type\": \"box\", \"jitter\": 0.3, \"name\": \"2013 - 2014\", \"boxpoints\": \"all\"}, {\"y\": [16.134146341463413, 14.134146341463415, 13.341463414634147, 17.146341463414632, 12.74390243902439, 13.390243902439025, 15.5, 12.682926829268293, 11.073170731707316, 14.390243902439025, 14.304878048780488, 18.98780487804878, 14.829268292682928, 14.170731707317072, 15.036585365853659], \"type\": \"box\", \"jitter\": 0.3, \"name\": \"2014 - 2015\", \"boxpoints\": \"all\"}, {\"y\": [16.121951219512194, 16.024390243902438, 15.963414634146341, 13.304878048780488, 11.487804878048781, 12.524390243902438, 15.439024390243903, 13.817073170731707, 11.085365853658537, 15.024390243902438, 13.74390243902439, 14.365853658536585, 14.926829268292684, 12.524390243902438, 15.75609756097561, 14.74390243902439], \"type\": \"box\", \"jitter\": 0.3, \"name\": \"2015 - 2016\", \"boxpoints\": \"all\"}], {\"showlegend\": false, \"yaxis\": {\"title\": \"Shot Blocks Per Game\"}, \"xaxis\": {\"tickangle\": -40, \"title\": \"Season\"}, \"title\": \"2006-2015 NHL Regular Season Shot Blocks Per Game For Playoff Teams in Each Season\"}, {\"linkText\": \"Export to plot.ly\", \"showLink\": true})});</script>"
      ],
      "text/plain": [
       "<IPython.core.display.HTML object>"
      ]
     },
     "metadata": {},
     "output_type": "display_data"
    }
   ],
   "source": [
    "seasons = [ 20062007, 20072008, 20082009, 20092010, 20102011, \\\n",
    "            20112012, 20122013, 20132014, 20142015, 20152016 ]\n",
    "data = []\n",
    "for seasonInt in seasons:\n",
    "    trace = go.Box(\n",
    "        y = df.blkPerGmRegular[df.season==seasonInt],\n",
    "        name = str(seasonInt)[:4] + ' - ' + str(seasonInt)[4:],\n",
    "        boxpoints = 'all',\n",
    "        jitter=0.3,\n",
    "    )\n",
    "    data.append(trace)\n",
    "layout = go.Layout(\n",
    "    title = \"2006-2015 NHL Regular Season Shot Blocks Per Game For Playoff Teams in Each Season\",\n",
    "    showlegend = False,\n",
    "    yaxis = dict(title = 'Shot Blocks Per Game'),\n",
    "    xaxis = dict(\n",
    "        title = 'Season',\n",
    "        tickangle=-40\n",
    "    ),\n",
    ")\n",
    "fig = dict(data = data, layout = layout)\n",
    "plotly.offline.iplot(fig)\n",
    "plotly.offline.plot(fig)"
   ]
  },
  {
   "cell_type": "code",
   "execution_count": null,
   "metadata": {
    "collapsed": true
   },
   "outputs": [],
   "source": []
  }
 ],
 "metadata": {
  "kernelspec": {
   "display_name": "Python 2",
   "language": "python",
   "name": "python2"
  },
  "language_info": {
   "codemirror_mode": {
    "name": "ipython",
    "version": 2
   },
   "file_extension": ".py",
   "mimetype": "text/x-python",
   "name": "python",
   "nbconvert_exporter": "python",
   "pygments_lexer": "ipython2",
   "version": "2.7.11"
  }
 },
 "nbformat": 4,
 "nbformat_minor": 0
}
