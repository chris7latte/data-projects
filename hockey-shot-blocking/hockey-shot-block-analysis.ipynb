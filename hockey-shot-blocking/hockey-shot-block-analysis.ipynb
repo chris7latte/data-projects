{
 "cells": [
  {
   "cell_type": "code",
   "execution_count": 37,
   "metadata": {
    "collapsed": false
   },
   "outputs": [],
   "source": [
    "import plotly\n",
    "import plotly.plotly as py\n",
    "import plotly.graph_objs as go\n",
    "from plotly import tools\n",
    "import numpy as np\n",
    "from scipy import stats\n",
    "from numpy import arange,array,ones\n",
    "import matplotlib.pyplot as plt\n",
    "\n",
    "plotly.offline.init_notebook_mode()"
   ]
  },
  {
   "cell_type": "code",
   "execution_count": 38,
   "metadata": {
    "collapsed": true
   },
   "outputs": [],
   "source": [
    "df = pd.read_csv('data-v2.csv')"
   ]
  },
  {
   "cell_type": "code",
   "execution_count": null,
   "metadata": {
    "collapsed": true
   },
   "outputs": [],
   "source": []
  },
  {
   "cell_type": "code",
   "execution_count": 39,
   "metadata": {
    "collapsed": false
   },
   "outputs": [
    {
     "data": {
      "text/html": [
       "<div>\n",
       "<table border=\"1\" class=\"dataframe\">\n",
       "  <thead>\n",
       "    <tr style=\"text-align: right;\">\n",
       "      <th></th>\n",
       "      <th>season</th>\n",
       "      <th>team</th>\n",
       "      <th>numGamesPlayoffs</th>\n",
       "      <th>numBlocksPlayoffs</th>\n",
       "      <th>numGamesRegular</th>\n",
       "      <th>numBlocksRegular</th>\n",
       "    </tr>\n",
       "  </thead>\n",
       "  <tbody>\n",
       "    <tr>\n",
       "      <th>0</th>\n",
       "      <td>20062007</td>\n",
       "      <td>1</td>\n",
       "      <td>11</td>\n",
       "      <td>172</td>\n",
       "      <td>82</td>\n",
       "      <td>1127</td>\n",
       "    </tr>\n",
       "    <tr>\n",
       "      <th>1</th>\n",
       "      <td>20062007</td>\n",
       "      <td>2</td>\n",
       "      <td>5</td>\n",
       "      <td>91</td>\n",
       "      <td>82</td>\n",
       "      <td>1307</td>\n",
       "    </tr>\n",
       "    <tr>\n",
       "      <th>2</th>\n",
       "      <td>20062007</td>\n",
       "      <td>3</td>\n",
       "      <td>10</td>\n",
       "      <td>159</td>\n",
       "      <td>82</td>\n",
       "      <td>1386</td>\n",
       "    </tr>\n",
       "    <tr>\n",
       "      <th>3</th>\n",
       "      <td>20062007</td>\n",
       "      <td>5</td>\n",
       "      <td>5</td>\n",
       "      <td>88</td>\n",
       "      <td>82</td>\n",
       "      <td>1238</td>\n",
       "    </tr>\n",
       "    <tr>\n",
       "      <th>4</th>\n",
       "      <td>20062007</td>\n",
       "      <td>7</td>\n",
       "      <td>16</td>\n",
       "      <td>290</td>\n",
       "      <td>82</td>\n",
       "      <td>1248</td>\n",
       "    </tr>\n",
       "  </tbody>\n",
       "</table>\n",
       "</div>"
      ],
      "text/plain": [
       "     season  team  numGamesPlayoffs  numBlocksPlayoffs  numGamesRegular  \\\n",
       "0  20062007     1                11                172               82   \n",
       "1  20062007     2                 5                 91               82   \n",
       "2  20062007     3                10                159               82   \n",
       "3  20062007     5                 5                 88               82   \n",
       "4  20062007     7                16                290               82   \n",
       "\n",
       "   numBlocksRegular  \n",
       "0              1127  \n",
       "1              1307  \n",
       "2              1386  \n",
       "3              1238  \n",
       "4              1248  "
      ]
     },
     "execution_count": 39,
     "metadata": {},
     "output_type": "execute_result"
    }
   ],
   "source": [
    "df.head()"
   ]
  },
  {
   "cell_type": "code",
   "execution_count": 40,
   "metadata": {
    "collapsed": false
   },
   "outputs": [],
   "source": [
    "df['blkPerGmRegular'] = df.numBlocksRegular / df.numGamesRegular\n",
    "df['blkPerGmPlayoff'] = df.numBlocksPlayoffs / df.numGamesPlayoffs\n",
    "df['blkDiff'] = df.blkPerGmPlayoff - df.blkPerGmRegular"
   ]
  },
  {
   "cell_type": "code",
   "execution_count": 41,
   "metadata": {
    "collapsed": false
   },
   "outputs": [
    {
     "data": {
      "text/html": [
       "<div>\n",
       "<table border=\"1\" class=\"dataframe\">\n",
       "  <thead>\n",
       "    <tr style=\"text-align: right;\">\n",
       "      <th></th>\n",
       "      <th>season</th>\n",
       "      <th>team</th>\n",
       "      <th>numGamesPlayoffs</th>\n",
       "      <th>numBlocksPlayoffs</th>\n",
       "      <th>numGamesRegular</th>\n",
       "      <th>numBlocksRegular</th>\n",
       "      <th>blkPerGmRegular</th>\n",
       "      <th>blkPerGmPlayoff</th>\n",
       "      <th>blkDiff</th>\n",
       "    </tr>\n",
       "  </thead>\n",
       "  <tbody>\n",
       "    <tr>\n",
       "      <th>0</th>\n",
       "      <td>20062007</td>\n",
       "      <td>1</td>\n",
       "      <td>11</td>\n",
       "      <td>172</td>\n",
       "      <td>82</td>\n",
       "      <td>1127</td>\n",
       "      <td>13.743902</td>\n",
       "      <td>15.636364</td>\n",
       "      <td>1.892461</td>\n",
       "    </tr>\n",
       "    <tr>\n",
       "      <th>1</th>\n",
       "      <td>20062007</td>\n",
       "      <td>2</td>\n",
       "      <td>5</td>\n",
       "      <td>91</td>\n",
       "      <td>82</td>\n",
       "      <td>1307</td>\n",
       "      <td>15.939024</td>\n",
       "      <td>18.200000</td>\n",
       "      <td>2.260976</td>\n",
       "    </tr>\n",
       "    <tr>\n",
       "      <th>2</th>\n",
       "      <td>20062007</td>\n",
       "      <td>3</td>\n",
       "      <td>10</td>\n",
       "      <td>159</td>\n",
       "      <td>82</td>\n",
       "      <td>1386</td>\n",
       "      <td>16.902439</td>\n",
       "      <td>15.900000</td>\n",
       "      <td>-1.002439</td>\n",
       "    </tr>\n",
       "    <tr>\n",
       "      <th>3</th>\n",
       "      <td>20062007</td>\n",
       "      <td>5</td>\n",
       "      <td>5</td>\n",
       "      <td>88</td>\n",
       "      <td>82</td>\n",
       "      <td>1238</td>\n",
       "      <td>15.097561</td>\n",
       "      <td>17.600000</td>\n",
       "      <td>2.502439</td>\n",
       "    </tr>\n",
       "    <tr>\n",
       "      <th>4</th>\n",
       "      <td>20062007</td>\n",
       "      <td>7</td>\n",
       "      <td>16</td>\n",
       "      <td>290</td>\n",
       "      <td>82</td>\n",
       "      <td>1248</td>\n",
       "      <td>15.219512</td>\n",
       "      <td>18.125000</td>\n",
       "      <td>2.905488</td>\n",
       "    </tr>\n",
       "  </tbody>\n",
       "</table>\n",
       "</div>"
      ],
      "text/plain": [
       "     season  team  numGamesPlayoffs  numBlocksPlayoffs  numGamesRegular  \\\n",
       "0  20062007     1                11                172               82   \n",
       "1  20062007     2                 5                 91               82   \n",
       "2  20062007     3                10                159               82   \n",
       "3  20062007     5                 5                 88               82   \n",
       "4  20062007     7                16                290               82   \n",
       "\n",
       "   numBlocksRegular  blkPerGmRegular  blkPerGmPlayoff   blkDiff  \n",
       "0              1127        13.743902        15.636364  1.892461  \n",
       "1              1307        15.939024        18.200000  2.260976  \n",
       "2              1386        16.902439        15.900000 -1.002439  \n",
       "3              1238        15.097561        17.600000  2.502439  \n",
       "4              1248        15.219512        18.125000  2.905488  "
      ]
     },
     "execution_count": 41,
     "metadata": {},
     "output_type": "execute_result"
    }
   ],
   "source": [
    "df.head()"
   ]
  },
  {
   "cell_type": "code",
   "execution_count": 61,
   "metadata": {
    "collapsed": false
   },
   "outputs": [
    {
     "data": {
      "text/plain": [
       "'file:///Users/Rossie/Development/github/data-projects/hockey-shot-blocking/temp-plot.html'"
      ]
     },
     "execution_count": 61,
     "metadata": {},
     "output_type": "execute_result"
    }
   ],
   "source": [
    "trace1 = go.Histogram(\n",
    "    x = df.blkPerGmRegular,\n",
    "    opacity = 0.66,\n",
    "    name = 'Regluar Season'\n",
    ")\n",
    "trace2 = go.Histogram(\n",
    "    x = df.blkPerGmPlayoff,\n",
    "    opacity = 0.66,\n",
    "    name = 'Playoffs'\n",
    ")\n",
    "data = [trace1, trace2]\n",
    "layout = dict(title = '2006-2015 NHL Shot Blocks Per Game For Playoff Teams',\n",
    "              yaxis = dict(title = '%'),\n",
    "              xaxis = dict(title = 'Shot Blocks per Game (Cumulative Shot Blocks / Games Played)'),\n",
    "              barmode='overlay'\n",
    "              )\n",
    "fig=dict(data=data, layout=layout)\n",
    "plotly.offline.plot(fig)\n",
    "# plotly.offline.iplot(fig)"
   ]
  },
  {
   "cell_type": "code",
   "execution_count": 43,
   "metadata": {
    "collapsed": false
   },
   "outputs": [
    {
     "name": "stdout",
     "output_type": "stream",
     "text": [
      "playoff: NormaltestResult(statistic=1.3459614507752162, pvalue=0.51018558597546892)\n",
      "regluar season: NormaltestResult(statistic=0.72393887157427661, pvalue=0.6963036494895003)\n"
     ]
    }
   ],
   "source": [
    "resPlayoff = stats.normaltest(df.blkPerGmPlayoff)\n",
    "print 'playoff: ' + str(resPlayoff)\n",
    "resRegular = stats.normaltest(df.blkPerGmRegular)\n",
    "print 'regluar season: ' + str(resRegular)"
   ]
  },
  {
   "cell_type": "code",
   "execution_count": 44,
   "metadata": {
    "collapsed": false
   },
   "outputs": [
    {
     "name": "stdout",
     "output_type": "stream",
     "text": [
      "Ttest_indResult(statistic=6.193753446868004, pvalue=2.2065936403165815e-09)\n"
     ]
    }
   ],
   "source": [
    "results = stats.ttest_ind(df.blkPerGmPlayoff, df.blkPerGmRegular, equal_var = False)\n",
    "print str(results)"
   ]
  },
  {
   "cell_type": "code",
   "execution_count": 69,
   "metadata": {
    "collapsed": false
   },
   "outputs": [
    {
     "data": {
      "text/plain": [
       "'file:///Users/Rossie/Development/github/data-projects/hockey-shot-blocking/temp-plot.html'"
      ]
     },
     "execution_count": 69,
     "metadata": {},
     "output_type": "execute_result"
    }
   ],
   "source": [
    "trace1 = go.Histogram(\n",
    "    x = df.blkDiff,\n",
    "    marker = dict(\n",
    "        line = dict(\n",
    "            color = 'grey',\n",
    "            width = 1.0\n",
    "        )\n",
    "    )\n",
    ")\n",
    "data = [trace1]\n",
    "layout = dict(\n",
    "    title = '2006-2015 NHL Shot Blocks Per Game For Playoff Teams Difference (Playoff - Reguar Season)',\n",
    "    yaxis = dict(title = '%'),\n",
    "    xaxis = dict(\n",
    "        title = 'Shot Blocks per Game Difference',\n",
    "        zeroline = True\n",
    "        \n",
    "    ),\n",
    "    bargap = 0.25\n",
    ")\n",
    "fig=dict(data=data, layout=layout)\n",
    "plotly.offline.plot(fig)"
   ]
  },
  {
   "cell_type": "code",
   "execution_count": 46,
   "metadata": {
    "collapsed": false
   },
   "outputs": [
    {
     "name": "stdout",
     "output_type": "stream",
     "text": [
      "diff normality test: NormaltestResult(statistic=5.8671079764564249, pvalue=0.053207602525582813)\n",
      "diff t-test: Ttest_1sampResult(statistic=9.7830178032344772, pvalue=5.7654455833651475e-18)\n"
     ]
    }
   ],
   "source": [
    "resDiff = stats.normaltest(df.blkDiff)\n",
    "print 'diff normality test: ' + str(resDiff)\n",
    "\n",
    "resDiffT = stats.ttest_1samp(df.blkDiff, 0.0)\n",
    "print 'diff t-test: ' + str(resDiffT)"
   ]
  },
  {
   "cell_type": "code",
   "execution_count": 57,
   "metadata": {
    "collapsed": false
   },
   "outputs": [
    {
     "data": {
      "text/html": [
       "<div>\n",
       "<table border=\"1\" class=\"dataframe\">\n",
       "  <thead>\n",
       "    <tr style=\"text-align: right;\">\n",
       "      <th></th>\n",
       "      <th>season</th>\n",
       "      <th>team</th>\n",
       "      <th>numGamesPlayoffs</th>\n",
       "      <th>numBlocksPlayoffs</th>\n",
       "      <th>numGamesRegular</th>\n",
       "      <th>numBlocksRegular</th>\n",
       "      <th>blkPerGmRegular</th>\n",
       "      <th>blkPerGmPlayoff</th>\n",
       "      <th>blkDiff</th>\n",
       "    </tr>\n",
       "  </thead>\n",
       "  <tbody>\n",
       "    <tr>\n",
       "      <th>137</th>\n",
       "      <td>20142015</td>\n",
       "      <td>18</td>\n",
       "      <td>6</td>\n",
       "      <td>144</td>\n",
       "      <td>82</td>\n",
       "      <td>1180</td>\n",
       "      <td>14.390244</td>\n",
       "      <td>24.000000</td>\n",
       "      <td>9.609756</td>\n",
       "    </tr>\n",
       "    <tr>\n",
       "      <th>158</th>\n",
       "      <td>20152016</td>\n",
       "      <td>30</td>\n",
       "      <td>6</td>\n",
       "      <td>137</td>\n",
       "      <td>82</td>\n",
       "      <td>1209</td>\n",
       "      <td>14.743902</td>\n",
       "      <td>22.833333</td>\n",
       "      <td>8.089431</td>\n",
       "    </tr>\n",
       "    <tr>\n",
       "      <th>54</th>\n",
       "      <td>20092010</td>\n",
       "      <td>9</td>\n",
       "      <td>6</td>\n",
       "      <td>129</td>\n",
       "      <td>82</td>\n",
       "      <td>1193</td>\n",
       "      <td>14.548780</td>\n",
       "      <td>21.500000</td>\n",
       "      <td>6.951220</td>\n",
       "    </tr>\n",
       "    <tr>\n",
       "      <th>77</th>\n",
       "      <td>20102011</td>\n",
       "      <td>26</td>\n",
       "      <td>6</td>\n",
       "      <td>117</td>\n",
       "      <td>82</td>\n",
       "      <td>1032</td>\n",
       "      <td>12.585366</td>\n",
       "      <td>19.500000</td>\n",
       "      <td>6.914634</td>\n",
       "    </tr>\n",
       "    <tr>\n",
       "      <th>157</th>\n",
       "      <td>20152016</td>\n",
       "      <td>28</td>\n",
       "      <td>10</td>\n",
       "      <td>226</td>\n",
       "      <td>82</td>\n",
       "      <td>1292</td>\n",
       "      <td>15.756098</td>\n",
       "      <td>22.600000</td>\n",
       "      <td>6.843902</td>\n",
       "    </tr>\n",
       "  </tbody>\n",
       "</table>\n",
       "</div>"
      ],
      "text/plain": [
       "       season  team  numGamesPlayoffs  numBlocksPlayoffs  numGamesRegular  \\\n",
       "137  20142015    18                 6                144               82   \n",
       "158  20152016    30                 6                137               82   \n",
       "54   20092010     9                 6                129               82   \n",
       "77   20102011    26                 6                117               82   \n",
       "157  20152016    28                10                226               82   \n",
       "\n",
       "     numBlocksRegular  blkPerGmRegular  blkPerGmPlayoff   blkDiff  \n",
       "137              1180        14.390244        24.000000  9.609756  \n",
       "158              1209        14.743902        22.833333  8.089431  \n",
       "54               1193        14.548780        21.500000  6.951220  \n",
       "77               1032        12.585366        19.500000  6.914634  \n",
       "157              1292        15.756098        22.600000  6.843902  "
      ]
     },
     "execution_count": 57,
     "metadata": {},
     "output_type": "execute_result"
    }
   ],
   "source": [
    "df_ordered = df.sort_values(by='blkDiff', ascending=False)\n",
    "df_ordered.head()"
   ]
  },
  {
   "cell_type": "code",
   "execution_count": null,
   "metadata": {
    "collapsed": true
   },
   "outputs": [],
   "source": []
  },
  {
   "cell_type": "code",
   "execution_count": null,
   "metadata": {
    "collapsed": true
   },
   "outputs": [],
   "source": []
  }
 ],
 "metadata": {
  "kernelspec": {
   "display_name": "Python 2",
   "language": "python",
   "name": "python2"
  },
  "language_info": {
   "codemirror_mode": {
    "name": "ipython",
    "version": 2
   },
   "file_extension": ".py",
   "mimetype": "text/x-python",
   "name": "python",
   "nbconvert_exporter": "python",
   "pygments_lexer": "ipython2",
   "version": "2.7.11"
  }
 },
 "nbformat": 4,
 "nbformat_minor": 0
}
